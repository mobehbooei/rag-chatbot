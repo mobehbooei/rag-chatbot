{
 "cells": [
  {
   "cell_type": "code",
   "execution_count": 27,
   "metadata": {},
   "outputs": [],
   "source": [
    "import os\n",
    "from langchain.vectorstores import Chroma\n",
    "from langchain.embeddings import OpenAIEmbeddings\n",
    "from langchain.text_splitter import RecursiveCharacterTextSplitter\n",
    "from langchain.llms import OpenAI\n",
    "from langchain.chains import RetrievalQA\n",
    "from langchain.document_loaders import TextLoader, PyMuPDFLoader\n",
    "from langchain.document_loaders import DirectoryLoader\n",
    "from dotenv import load_dotenv"
   ]
  },
  {
   "cell_type": "code",
   "execution_count": 29,
   "metadata": {},
   "outputs": [],
   "source": [
    "load_dotenv()\n",
    "\n",
    "OPENAI_API_KEY = os.getenv(\"OPENAI_API_KEY\")"
   ]
  },
  {
   "cell_type": "code",
   "execution_count": 8,
   "metadata": {},
   "outputs": [],
   "source": [
    "# Load and process the text files\n",
    "loader = PyMuPDFLoader('./Origin_of_Species.pdf')\n",
    "# loader = DirectoryLoader('./new_articles/', glob=\"./*.txt\", loader_cls=TextLoader)\n",
    "\n",
    "documents = loader.load()"
   ]
  },
  {
   "cell_type": "code",
   "execution_count": 11,
   "metadata": {},
   "outputs": [],
   "source": [
    "#splitting the text into\n",
    "text_splitter = RecursiveCharacterTextSplitter(chunk_size=1000, chunk_overlap=200)\n",
    "texts = text_splitter.split_documents(documents)"
   ]
  },
  {
   "cell_type": "code",
   "execution_count": 34,
   "metadata": {},
   "outputs": [],
   "source": [
    "# Embed and store the texts\n",
    "# Supplying a persist_directory will store the embeddings on disk\n",
    "persist_directory = 'db'\n",
    "\n",
    "## here we are using OpenAI embeddings but in future we will swap out to local embeddings\n",
    "embedding = OpenAIEmbeddings(openai_api_key=OPENAI_API_KEY)\n",
    "\n",
    "vectordb = Chroma.from_documents(documents=texts, \n",
    "                                 embedding=embedding,\n",
    "                                 persist_directory=persist_directory)"
   ]
  },
  {
   "cell_type": "code",
   "execution_count": null,
   "metadata": {},
   "outputs": [],
   "source": [
    "# Now we can load the persisted database from disk, and use it as normal. \n",
    "# vectordb = Chroma(persist_directory=persist_directory, \n",
    "#                   embedding_function=embedding)"
   ]
  },
  {
   "cell_type": "code",
   "execution_count": 35,
   "metadata": {},
   "outputs": [],
   "source": [
    "retriever = vectordb.as_retriever()"
   ]
  },
  {
   "cell_type": "code",
   "execution_count": 36,
   "metadata": {},
   "outputs": [
    {
     "name": "stderr",
     "output_type": "stream",
     "text": [
      "/home/mbehbooei/Projects/rag-chatbot/.venv/lib/python3.10/site-packages/langchain_core/_api/deprecation.py:119: LangChainDeprecationWarning: The method `BaseRetriever.get_relevant_documents` was deprecated in langchain-core 0.1.46 and will be removed in 0.3.0. Use invoke instead.\n",
      "  warn_deprecated(\n"
     ]
    },
    {
     "data": {
      "text/plain": [
       "[Document(page_content=\"vehemently, maintained the immutability of species.  But I have reason to believe that one great\\nauthority, Sir Charles Lyell, from further reflexion entertains grave doubts on this subject.  I feel\\nhow rash it is to differ from these great authorities, to whom, with others, we owe all our\\nknowledge.  Those who think the natural geological record in any degree perfect, and who do not\\nattach much weight to the facts and arguments of other kinds given in this volume, will\\nundoubtedly at once reject my theory.  For my part, following out Lyell's metaphor, I look at the\\nnatural geological record, as a history of the world imperfectly kept, and written in a changing\\ndialect; of this history we possess the last volume alone, relating only to two or three countries.  Of\\nthis volume, only here and there a short chapter has been preserved; and of each page, only here\\nand there a few lines.  Each word of the slowly-changing language, in which the history is\", metadata={'author': 'Charles Darwin', 'creationDate': 'D:19990416190643Z', 'creator': 'Microsoft Word', 'file_path': './Origin_of_Species.pdf', 'format': 'PDF 1.4', 'keywords': 'evolution', 'modDate': \"D:20041013121933+10'00'\", 'page': 143, 'producer': 'Acrobat PDFWriter 3.0.1 for Power Macintosh', 'source': './Origin_of_Species.pdf', 'subject': 'Evolution', 'title': 'The Origin of The Species', 'total_pages': 247, 'trapped': ''}),\n",
       " Document(page_content='generally supposed; the imperfection of the record being chiefly due to organic beings not\\ninhabiting profound depths of the sea, and to their remains being embedded and preserved to a\\nfuture age only in masses of sediment sufficiently thick and extensive to withstand an enormous\\namount of future degradation; and such fossiliferous masses can be accumulated only where much\\nsediment is deposited on the shallow bed of the sea, whilst it slowly subsides.  These contingencies\\nwill concur only rarely, and after enormously long intervals.  Whilst the bed of the sea is stationary\\nor is rising, or when very little sediment is being deposited, there will be blanks in our geological\\nhistory.  The crust of the earth is a vast museum; but the natural collections have been made only at\\nintervals of time immensely remote.\\nBut it may be urged that when several closely-allied species inhabit the same territory we surely', metadata={'author': 'Charles Darwin', 'creationDate': 'D:19990416190643Z', 'creator': 'Microsoft Word', 'file_path': './Origin_of_Species.pdf', 'format': 'PDF 1.4', 'keywords': 'evolution', 'modDate': \"D:20041013121933+10'00'\", 'page': 81, 'producer': 'Acrobat PDFWriter 3.0.1 for Power Macintosh', 'source': './Origin_of_Species.pdf', 'subject': 'Evolution', 'title': 'The Origin of The Species', 'total_pages': 247, 'trapped': ''}),\n",
       " Document(page_content=\"not a cave or true lacustrine bed is known belonging to the age of our secondary or palaeozoic\\nformations.\\nBut the imperfection in the geological record mainly results from another and more important cause\\nthan any of the foregoing; namely, from the several formations being separated from each other by\\nwide intervals of time.  When we see the formations tabulated in written works, or when we follow\\nthem in nature, it is difficult to avoid believing that they are closely consecutive.  But we know, for\\ninstance, from Sir R. Murchison's great work on Russia, what wide gaps there are in that country\\nbetween the superimposed formations; so it is in North America, and in many other parts of the\\nworld.  The most skilful geologist, if his attention had been exclusively confined to these large\\nterritories, would never have suspected that during the periods which were blank and barren in his\\nown country, great piles of sediment, charged with new and peculiar forms of life, had elsewhere\", metadata={'author': 'Charles Darwin', 'creationDate': 'D:19990416190643Z', 'creator': 'Microsoft Word', 'file_path': './Origin_of_Species.pdf', 'format': 'PDF 1.4', 'keywords': 'evolution', 'modDate': \"D:20041013121933+10'00'\", 'page': 133, 'producer': 'Acrobat PDFWriter 3.0.1 for Power Macintosh', 'source': './Origin_of_Species.pdf', 'subject': 'Evolution', 'title': 'The Origin of The Species', 'total_pages': 247, 'trapped': ''}),\n",
       " Document(page_content='I have made these few remarks because it is highly important for us to gain some notion, however\\nimperfect, of the lapse of years.  During each of these years, over the whole world, the land and the\\nwater has been peopled by hosts of living forms.  What an infinite number of generations, which\\nthe mind cannot grasp, must have succeeded each other in the long roll of years!  Now turn to our\\nrichest geological museums, and what a paltry display we behold!\\nOn the poorness of our Palaeontological collections. -- That our palaeontological collections are\\nvery imperfect, is admitted by every one.  The remark of that admirable palaeontologist, the late\\nEdward Forbes, should not be forgotten, namely, that numbers of our fossil species are known and\\nnamed from single and often broken specimens, or from a few specimens collected on some one\\nspot.  Only a small portion of the surface of the earth has been geologically explored, and no part', metadata={'author': 'Charles Darwin', 'creationDate': 'D:19990416190643Z', 'creator': 'Microsoft Word', 'file_path': './Origin_of_Species.pdf', 'format': 'PDF 1.4', 'keywords': 'evolution', 'modDate': \"D:20041013121933+10'00'\", 'page': 132, 'producer': 'Acrobat PDFWriter 3.0.1 for Power Macintosh', 'source': './Origin_of_Species.pdf', 'subject': 'Evolution', 'title': 'The Origin of The Species', 'total_pages': 247, 'trapped': ''})]"
      ]
     },
     "execution_count": 36,
     "metadata": {},
     "output_type": "execute_result"
    }
   ],
   "source": [
    "docs = retriever.get_relevant_documents(\"Chapter IX On the Imperfection of the Geological Record\")\n",
    "docs"
   ]
  },
  {
   "cell_type": "code",
   "execution_count": 37,
   "metadata": {},
   "outputs": [],
   "source": [
    "retriever = vectordb.as_retriever(search_kwargs={\"k\": 2})"
   ]
  },
  {
   "cell_type": "code",
   "execution_count": 38,
   "metadata": {},
   "outputs": [
    {
     "name": "stderr",
     "output_type": "stream",
     "text": [
      "/home/mbehbooei/Projects/rag-chatbot/.venv/lib/python3.10/site-packages/langchain_core/_api/deprecation.py:119: LangChainDeprecationWarning: The class `OpenAI` was deprecated in LangChain 0.0.10 and will be removed in 0.3.0. An updated version of the class exists in the langchain-openai package and should be used instead. To use it run `pip install -U langchain-openai` and import as `from langchain_openai import OpenAI`.\n",
      "  warn_deprecated(\n"
     ]
    }
   ],
   "source": [
    "# create the chain to answer questions \n",
    "qa_chain = RetrievalQA.from_chain_type(llm=OpenAI(), \n",
    "                                  chain_type=\"stuff\", \n",
    "                                  retriever=retriever, \n",
    "                                  return_source_documents=True)"
   ]
  },
  {
   "cell_type": "code",
   "execution_count": 50,
   "metadata": {},
   "outputs": [],
   "source": [
    "## Cite sources\n",
    "def process_llm_response(llm_response):\n",
    "    print(llm_response['result'])\n",
    "    print('\\n\\nSources:')\n",
    "    for doc in llm_response[\"source_documents\"]:\n",
    "        print(doc.page_content)"
   ]
  },
  {
   "cell_type": "code",
   "execution_count": 51,
   "metadata": {},
   "outputs": [
    {
     "name": "stdout",
     "output_type": "stream",
     "text": [
      " The book is mainly about the theory of evolution and the various challenges and evidence that support it. \n",
      "\n",
      "\n",
      "Sources:\n",
      "Summary of last and present Chapters -- In these chapters I have endeavoured to show, that if we\n",
      "make due allowance for our ignorance of the full effects of all the changes of climate and of the\n",
      "level of the land, which have certainly occurred within the recent period, and of other similar\n",
      "changes which may have occurred within the same period; if we remember how profoundly\n",
      "ignorant we are with respect to the many and curious means of occasional transport,--a subject\n",
      "which has hardly ever been properly experimentised on; if we bear in mind how often a species\n",
      "may have ranged continuously over a wide area, and then have become extinct in the intermediate\n",
      "tracts, I think the difficulties in believing that all the individuals of the same species, wherever\n",
      "located, have descended from the same parents, are not insuperable.  And we are led to this\n",
      "conclusion, which has been arrived at by many naturalists under the designation of single centres of\n",
      "improved forms of life and induces what I have called Divergence of Character.  In the next chapter\n",
      "I shall discuss the complex and little known laws of variation and of correlation of growth.  In the\n",
      "four succeeding chapters, the most apparent and gravest difficulties on the theory will be given:\n",
      "namely, first, the difficulties of transitions, or in understanding how a simple being or a simple\n",
      "organ can be changed and perfected into a highly developed being or elaborately constructed organ;\n",
      "secondly the subject of Instinct, or the mental powers of animals, thirdly, Hybridism, or the\n",
      "infertility of species and the fertility of varieties when intercrossed; and fourthly, the imperfection\n",
      "of the Geological Record.  In the next chapter I shall consider the geological succession of organic\n",
      "beings throughout time; in the eleventh and twelfth, their geographical distribution throughout\n",
      "space; in the thirteenth, their classification or mutual affinities, both when mature and in an\n"
     ]
    }
   ],
   "source": [
    "# full example\n",
    "query = \"what is this book mainly about?\"\n",
    "llm_response = qa_chain(query)\n",
    "process_llm_response(llm_response)"
   ]
  }
 ],
 "metadata": {
  "kernelspec": {
   "display_name": ".venv",
   "language": "python",
   "name": "python3"
  },
  "language_info": {
   "codemirror_mode": {
    "name": "ipython",
    "version": 3
   },
   "file_extension": ".py",
   "mimetype": "text/x-python",
   "name": "python",
   "nbconvert_exporter": "python",
   "pygments_lexer": "ipython3",
   "version": "3.10.14"
  }
 },
 "nbformat": 4,
 "nbformat_minor": 2
}
